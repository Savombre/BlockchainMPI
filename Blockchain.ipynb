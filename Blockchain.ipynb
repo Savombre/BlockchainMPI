{
 "cells": [
  {
   "cell_type": "code",
   "execution_count": 756,
   "metadata": {},
   "outputs": [],
   "source": [
    "import hashlib\n",
    "import numpy as np\n",
    "from random import randint\n",
    "import mpi4py.MPI as mpi"
   ]
  },
  {
   "cell_type": "code",
   "execution_count": 757,
   "metadata": {},
   "outputs": [],
   "source": [
    "class Block :\n",
    "    \n",
    "    def __init__(self,blockNumber,nonce,coinbase,transaction,hashPrecedent) : \n",
    "        \n",
    "        self.blockNumber=blockNumber\n",
    "        self.nonce=nonce\n",
    "        self.coinbase=coinbase\n",
    "        self.transaction=transaction\n",
    "        self.shaSignature=42\n",
    "        self.hashPrecedent=hashPrecedent\n",
    "        \n",
    "    def hashString(self) :\n",
    "        return(str(self.blockNumber)+str(self.nonce)+self.coinbase.getDataString()+self.transaction.getDataString()+str(self.hashPrecedent))\n",
    "    \n",
    "    def incrementNonce(self,i) :\n",
    "      \n",
    "        self.nonce+=i\n",
    "     \n",
    "    def decrementNonce(self,i) :\n",
    "      \n",
    "        self.nonce-=1\n",
    "        \n",
    "    \n",
    "    def _set_shaSignature(self,shaSignature) : \n",
    "      \n",
    "        self.shaSignature=shaSignature\n",
    "        \n",
    "    \n",
    "    def _set_nonce(self,nonce) : \n",
    "        \n",
    "        self.nonce=nonce\n",
    "    \n",
    "    \n",
    "    def __getattr__(self,name) : \n",
    "        \n",
    "        if name == 'blockNumber' :\n",
    "            return self.blockNumber\n",
    "        \n",
    "        if name == 'nonce' :\n",
    "            return self.nonce\n",
    "        \n",
    "        if name == 'coinbase' :\n",
    "            return self.coinbase\n",
    "        \n",
    "        if name == 'transaction' :\n",
    "            return self.transaction\n",
    "        \n",
    "        if name == 'shaSignature' :\n",
    "            return self.shaSignature\n",
    "        \n",
    "        if name == 'hashPrecedent' :\n",
    "            return self.hashPrecedent\n",
    "\n",
    "    "
   ]
  },
  {
   "cell_type": "code",
   "execution_count": 758,
   "metadata": {},
   "outputs": [],
   "source": [
    "class Transaction : \n",
    "    \n",
    "    def __init__(self,coin,cleFrom,cleTo,n,c) : \n",
    "        \n",
    "        self.coin=coin\n",
    "        self.cleFrom=cleFrom\n",
    "        self.cleTo=cleTo\n",
    "        self.seq=1\n",
    "        self.signature=signer(str(coin)+str(cleFrom)+str(cleTo),n,c)\n",
    "        \n",
    "        \n",
    "        \n",
    "        \n",
    "    \n",
    "    def _set_seq(self,seq) :\n",
    "        \n",
    "        self.seq=seq\n",
    "        \n",
    "    \n",
    "    def _set_signature(self,signature) :\n",
    "        \n",
    "        self.signature=signature\n",
    "        \n",
    "    \n",
    "    def getDataString(self) :\n",
    "    \n",
    "        data=str(self.coin)+str(self.cleFrom)+str(self.cleTo)\n",
    "    \n",
    "        return(data)\n",
    "    \n",
    "    \n",
    "        \n",
    "    def __getattr__(self,name) : \n",
    "        \n",
    "        if name == 'coin' :\n",
    "            return self.coin\n",
    "        \n",
    "        if name == 'cleFrom' :\n",
    "            return self.cleFrom\n",
    "        \n",
    "        if name == 'cleTo' :\n",
    "            return self.cleTo\n",
    "        \n",
    "        if name == 'seq' :\n",
    "            return self.seq\n",
    "        \n",
    "        if name == 'signature' :\n",
    "            return self.signature\n",
    "        \n",
    "        if name == 'message' : \n",
    "            return (str(self.coin)+str(self.cleFrom)+str(self.cleTo))\n",
    "            \n",
    "    "
   ]
  },
  {
   "cell_type": "code",
   "execution_count": 759,
   "metadata": {},
   "outputs": [],
   "source": [
    "class Coinbase : \n",
    "    \n",
    "    def __init__(self,coin,cleTo) :\n",
    "        \n",
    "        self.coin=coin\n",
    "        self.cleTo=cleTo\n",
    "        \n",
    "    def __getattr__(self,name) :\n",
    "        \n",
    "        if name == \"coin\" : \n",
    "            return self.coin\n",
    "        \n",
    "        if name == \"cleTo\" : \n",
    "            return self.cleTo\n",
    "        \n",
    "        \n",
    "    def getDataString(self) :\n",
    "    \n",
    "        data=str(self.coin)+str(self.cleTo)\n",
    "        \n",
    "        return(data)\n",
    "        \n",
    "        "
   ]
  },
  {
   "cell_type": "code",
   "execution_count": 760,
   "metadata": {},
   "outputs": [],
   "source": [
    "def addToBlockchain(Blockchain,coinbase,transaction): \n",
    "  \n",
    "  newBlock=Block(blockNumber=Blockchain[-1].blockNumber+1,nonce=0,coinbase=coinbase,transaction=transaction,hashPrecedent=Blockchain[-1].shaSignature)\n",
    "  \n",
    "  minage(newBlock)\n",
    "  \n",
    "  Blockchain.append(newBlock)"
   ]
  },
  {
   "cell_type": "code",
   "execution_count": 761,
   "metadata": {},
   "outputs": [],
   "source": [
    "def newBlockIntoBlockchain(Blockchain,coinbase,transaction,n,d) : \n",
    "    \n",
    "    if verifier(transaction.signature,transaction.message,n,d)== True :\n",
    "    \n",
    "        for block in reversed(Blockchain) : \n",
    "        \n",
    "            if block.transaction.cleFrom==transaction.cleFrom :\n",
    "                seq=block.transaction.seq\n",
    "                transaction.seq=seq+1\n",
    "                break\n",
    "\n",
    "        addToBlockchain(Blockchain,coinbase,transaction)\n",
    "    "
   ]
  },
  {
   "cell_type": "code",
   "execution_count": 762,
   "metadata": {},
   "outputs": [],
   "source": [
    "def encrypt_string(hash_string):\n",
    "    sha_signature = \\\n",
    "        hashlib.sha256(hash_string.encode()).hexdigest()\n",
    "    return sha_signature"
   ]
  },
  {
   "cell_type": "code",
   "execution_count": 763,
   "metadata": {},
   "outputs": [],
   "source": [
    "def minage(block):\n",
    "    \n",
    "    rank = mpi.COMM_WORLD.Get_rank()\n",
    "    size = mpi.COMM_WORLD.Get_size()\n",
    "\n",
    "    \n",
    "    hash_string=block.hashString()\n",
    "    sha_signature=encrypt_string(hash_string)\n",
    "    block.nonce=rank\n",
    "    nonce=rank\n",
    "    \n",
    "    while not mpi.COMM_WORLD.Iprobe(mpi.ANY_SOURCE, mpi.ANY_TAG):\n",
    "        if (sha_signature[0]!=str(0) or sha_signature[1]!=str(0) or sha_signature[2]!=str(0) or sha_signature[3]!=str(0))  :  \n",
    "            hash_string=block.hashString()\n",
    "            sha_signature=encrypt_string(hash_string)\n",
    "            block.nonce+=size\n",
    "            nonce+=size\n",
    "            \n",
    "            #print(\"nonce =\",block.nonce,\"pour rank =\",rank)\n",
    "        else :\n",
    "            #print(\"NONCE TROUVÉ pour nonce=\",nonce-size,\"et sha =\",sha_signature)\n",
    "            for i in range(size) :\n",
    "                if i!=rank :\n",
    "                    mpi.COMM_WORLD.send(nonce,dest=i)\n",
    "            break\n",
    "        \n",
    "    nonce-=size\n",
    "    block.nonce=nonce\n",
    "    block.shaSignature=sha_signature\n",
    "  "
   ]
  },
  {
   "cell_type": "code",
   "execution_count": 764,
   "metadata": {},
   "outputs": [],
   "source": [
    "def isprem(n):\t#retourne true si un nombre est premier, false sinon\n",
    "\tif n == 1 or n == 2:\t\t\n",
    "\t\treturn True\t\t\n",
    "\tif n%2 == 0:\t\t\n",
    "\t\treturn False\t\t\n",
    "\tr = n**0.5\t\n",
    "\tif r == int(r):\t\t\n",
    "\t\treturn False\t\n",
    "\tfor x in range(3, int(r), 2):\n",
    "\t\tif n % x == 0:\t\t\t\n",
    "\t\t\treturn False\t\t\n",
    "\treturn True"
   ]
  },
  {
   "cell_type": "code",
   "execution_count": 765,
   "metadata": {},
   "outputs": [],
   "source": [
    "def coupcoup(k, long):\t  #decoupage des chaines de caractere\n",
    "\td , f = 0 , long\t\n",
    "\tl = []\t\n",
    "\twhile f <= len(k):\t\t\n",
    "\t\tl.append(k[d:f])\t\t\n",
    "\t\td , f = f , f + long\t\n",
    "\tm = len(k)%long\t\n",
    "\tif m != 0:\t\t\n",
    "\t\tl.append(k[len(k)-m:])\t\n",
    "\treturn l"
   ]
  },
  {
   "cell_type": "code",
   "execution_count": 766,
   "metadata": {},
   "outputs": [],
   "source": [
    "def pgcd(a,b):\t#pgcd\t\n",
    "\twhile (b>0):\t\t\n",
    "\t\tr=a%b\t\t\n",
    "\t\ta,b=b,r\t\t\n",
    "\treturn a"
   ]
  },
  {
   "cell_type": "code",
   "execution_count": 767,
   "metadata": {},
   "outputs": [],
   "source": [
    "def pgcde(a, b):  #pgcd étendu\n",
    "\tr, u, v = a, 1, 0\n",
    "\trp, up, vp = b, 0, 1\n",
    "\t\n",
    "\twhile rp != 0:\n",
    "\t\tq = r//rp\n",
    "\t\trs, us, vs = r, u, v\n",
    "\t\tr, u, v = rp, up, vp\n",
    "\t\trp, up, vp = (rs - q*rp), (us - q*up), (vs - q*vp)\n",
    "\t\n",
    "\treturn (r, u, v)"
   ]
  },
  {
   "cell_type": "code",
   "execution_count": 768,
   "metadata": {},
   "outputs": [],
   "source": [
    "def key():  #permet de générer des couples privée/publique, utile pour les tests\n",
    "\t#choix au hasard de deux entiers premiers (n et q)\n",
    "\tp = np.random.choice(1000,1)\n",
    "\tq = np.random.choice(1000,1)\n",
    "\t\n",
    "\twhile isprem(p) is False:\n",
    "\t\tp = np.random.choice(1000,1)\n",
    "\t\t\n",
    "\twhile isprem(q) is False:\n",
    "\t\tq = np.random.choice(1000,1)\n",
    "\t\t\n",
    "\t#calcul de n et m\n",
    "\tn = p*q\n",
    "\tm = (p-1)*(q-1)\n",
    "\t\n",
    "\t#recherche de c premier de m (c'est a dire tel que pgcd(m,c)=1 ) et de d = pgcde(m,c) tel que 2 < d < m\n",
    "\tr = 10\n",
    "\td = 0\n",
    "\twhile r != 1 or d <= 2 or d >= m:\n",
    "\t\tc = np.random.choice(1000,1)\n",
    "\t\tr, d, v = pgcde(c,m)\n",
    "\t\t\n",
    "\tn, c, d = int(n), int(c), int(d)\n",
    "\treturn {\"priv\":(n,c), \"pub\":(n,d)}\n",
    "\t"
   ]
  },
  {
   "cell_type": "code",
   "execution_count": 769,
   "metadata": {},
   "outputs": [],
   "source": [
    "def chiffre(n, c, msg):  #on chiffre les messages\t\n",
    "\tasc = [str(ord(j)) for j in msg]\n",
    "\n",
    "\tfor i, k in enumerate(asc):\t\t\n",
    "\t\tif len(k) < 3:\t\t\t\n",
    "\t\t\twhile len(k) < 3:\t\t\t\t\n",
    "\t\t\t\tk = '0' + k\t\t\t\n",
    "\t\t\tasc[i] = k\n",
    "\n",
    "\tascg = ''.join(asc)\t\n",
    "\td , f = 0 , 4\n",
    "\twhile len(ascg)%f != 0: \t\n",
    "\t\tascg = ascg + '0'\n",
    "\tl = []\t\n",
    "\twhile f <= len(ascg):\t\t\n",
    "\t\tl.append(ascg[d:f])\t\t\n",
    "\t\td , f = f , f + 4\n",
    "\tcrypt = [str(((int(i))**c)%n) for i in l]\t\n",
    "\treturn crypt\n",
    "\t"
   ]
  },
  {
   "cell_type": "code",
   "execution_count": 770,
   "metadata": {},
   "outputs": [],
   "source": [
    "def dechiffre(n, d, *crypt):  #dechiffrement du message, a partir des clés privée\n",
    "\tresultat = [str((int(i)**d)%n) for i in crypt]\n",
    "\tfor i, s in enumerate(resultat):\n",
    "\t\t\n",
    "\t\tif len(s) < 4:\t\t\t\n",
    "\t\t\twhile len(s) < 4:\t\t\t\t\n",
    "\t\t\t\ts = '0' + s\t\t\t\n",
    "\t\t\tresultat[i] = s\n",
    "\t\t\n",
    "\tg = ''.join(resultat)\t\n",
    "\tasci = ''\t\n",
    "\td , f = 0 , 3\t\n",
    "\twhile f < len(g):\t\t\n",
    "\t\tasci = asci + chr(int(g[d:f]))\t\t\n",
    "\t\td , f = f , f + 3\n",
    "\t\n",
    "\treturn asci"
   ]
  },
  {
   "cell_type": "code",
   "execution_count": 771,
   "metadata": {},
   "outputs": [],
   "source": [
    "def signer(message,n,c):  #retourne la signature\n",
    "  m=encrypt_string(message)\n",
    "  signature=chiffre(n,c,m)\n",
    "  return(signature)\n",
    "\n"
   ]
  },
  {
   "cell_type": "code",
   "execution_count": 772,
   "metadata": {},
   "outputs": [],
   "source": [
    "def verifier (signature,message,n,d):  #renvoi True si la signature est valide, false sinon\n",
    "  m=encrypt_string(message)\n",
    "  s=dechiffre(n,d,*signature)\n",
    "  m=m[:-1]\n",
    "  if (s==m):\n",
    "    return(True)\n",
    "  else:\n",
    "    return(False)"
   ]
  },
  {
   "cell_type": "code",
   "execution_count": 773,
   "metadata": {},
   "outputs": [
    {
     "name": "stdout",
     "output_type": "stream",
     "text": [
      "{'priv': (15871, 815), 'pub': (15871, 4215)}\n"
     ]
    }
   ],
   "source": [
    "print(key())\n",
    "#{'priv': (n,c), 'pub': (n,d)"
   ]
  },
  {
   "cell_type": "code",
   "execution_count": 774,
   "metadata": {},
   "outputs": [
    {
     "name": "stdout",
     "output_type": "stream",
     "text": [
      "['104604', '231042', '96641', '104604', '69133', '176807', '193197', '129005', '239232', '288457', '197493', '176807', '236229', '44445', '87803', '175257', '159142', '27576', '52531', '268798', '158103', '274482', '231042', '203716', '185937', '26705', '278378', '274482', '268798', '9312', '187910', '69133', '94660', '26990', '107311', '145020', '40133', '151842', '236450', '53905', '69133', '220652', '188794', '129005', '278378', '80494', '178254', '193527']\n"
     ]
    }
   ],
   "source": [
    "m=\"salut c'est moi aurelien bonjour clement\"\n",
    "s=signer(m,290363, 983)\n",
    "print(s)"
   ]
  },
  {
   "cell_type": "code",
   "execution_count": 775,
   "metadata": {},
   "outputs": [
    {
     "data": {
      "text/plain": [
       "True"
      ]
     },
     "execution_count": 775,
     "metadata": {},
     "output_type": "execute_result"
    }
   ],
   "source": [
    "verifier(s,m,290363, 18527)"
   ]
  },
  {
   "cell_type": "code",
   "execution_count": 776,
   "metadata": {},
   "outputs": [
    {
     "name": "stdout",
     "output_type": "stream",
     "text": [
      "1\n",
      "\n",
      "\n",
      "107617ruevauquelin1617ruevauquelin55boulevardstmarcel0000000000000000000000000000000000000000000000000000000000000000\n",
      "42\n",
      "Nonce = 100644\n",
      "0000082c6681b99b4afa300c4fc63958d82bf9bf7f13e73f12eae60fa288f488\n",
      "\n",
      "\n",
      "True\n",
      "100644\n",
      "68646\n",
      "0000e09f331d796e999501fb5467ff5c681d1e7c51371e79b7c5290fb28e5979\n"
     ]
    }
   ],
   "source": [
    "transaction1=Transaction(coin=16,cleFrom=\"17ruevauquelin\",cleTo=\"55boulevardstmarcel\",n=n,c=c)\n",
    "transaction2=Transaction(coin=24,cleFrom=transaction1.cleFrom,cleTo=transaction1.cleTo,n=n,c=c)\n",
    "\n",
    "coinbase1=Coinbase(coin=76,cleTo=\"17ruevauquelin\")\n",
    "coinbase2=Coinbase(coin=24,cleTo=\"17ruevauquelin\")\n",
    "\n",
    "transaction1.signature=signer(transaction1.message,n,c)\n",
    "transaction2.signature=signer(transaction2.message,n,c)\n",
    "\n",
    "print(transaction1.seq)\n",
    "\n",
    "Blockchain=[]\n",
    "premierBlock=Block(blockNumber=1,nonce=0,coinbase=coinbase1,transaction=transaction1,hashPrecedent=\"0000000000000000000000000000000000000000000000000000000000000000\")\n",
    "\n",
    "\n",
    "\n",
    "\n",
    "\n",
    "Blockchain.append(premierBlock)\n",
    "\n",
    "\n",
    "\n",
    "hashString=Blockchain[0].hashString()\n",
    "\n",
    "print(\"\\n\")\n",
    "print(hashString)\n",
    "print(Blockchain[0].shaSignature)\n",
    "minage(Blockchain[0])\n",
    "print(\"Nonce =\",Blockchain[0].nonce)\n",
    "print(Blockchain[0].shaSignature)\n",
    "\n",
    "print(\"\\n\")\n",
    "\n",
    "print(verifier(signer(transaction2.message,n,c),transaction2.message,n,d))\n",
    "\n",
    "\n",
    "newBlockIntoBlockchain(Blockchain,coinbase2,transaction2,n,d)\n",
    "print(Blockchain[0].nonce)\n",
    "print(Blockchain[1].nonce)\n",
    "print(Blockchain[1].shaSignature)\n",
    "\n",
    "\n",
    "\n"
   ]
  },
  {
   "cell_type": "code",
   "execution_count": null,
   "metadata": {},
   "outputs": [],
   "source": []
  },
  {
   "cell_type": "code",
   "execution_count": null,
   "metadata": {},
   "outputs": [],
   "source": []
  },
  {
   "cell_type": "code",
   "execution_count": null,
   "metadata": {},
   "outputs": [],
   "source": []
  }
 ],
 "metadata": {
  "kernelspec": {
   "display_name": "Python 3",
   "language": "python",
   "name": "python3"
  },
  "language_info": {
   "codemirror_mode": {
    "name": "ipython",
    "version": 3
   },
   "file_extension": ".py",
   "mimetype": "text/x-python",
   "name": "python",
   "nbconvert_exporter": "python",
   "pygments_lexer": "ipython3",
   "version": "3.7.2"
  }
 },
 "nbformat": 4,
 "nbformat_minor": 2
}
